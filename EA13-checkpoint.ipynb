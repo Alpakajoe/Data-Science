{
 "cells": [
  {
   "cell_type": "code",
   "execution_count": 1,
   "id": "e3e4c9b6",
   "metadata": {},
   "outputs": [],
   "source": [
    "import findspark\n",
    "findspark.init()\n",
    "findspark.find()\n",
    "import pyspark\n",
    "findspark.find()\n",
    "import collections"
   ]
  },
  {
   "cell_type": "code",
   "execution_count": 2,
   "id": "03a6a56c",
   "metadata": {},
   "outputs": [
    {
     "data": {
      "text/plain": [
       "[('the', 27486),\n",
       " ('and', 25994),\n",
       " ('i', 19540),\n",
       " ('to', 18656),\n",
       " ('of', 17958),\n",
       " ('a', 14365),\n",
       " ('my', 12455),\n",
       " ('in', 10660),\n",
       " ('you', 10597),\n",
       " ('that', 10474),\n",
       " ('is', 9117),\n",
       " ('for', 7951),\n",
       " ('with', 7924),\n",
       " ('not', 7634),\n",
       " ('your', 6862),\n",
       " ('his', 6749),\n",
       " ('be', 6685),\n",
       " ('he', 5884),\n",
       " ('but', 5881),\n",
       " ('as', 5876),\n",
       " ('this', 5860),\n",
       " ('it', 5858),\n",
       " ('have', 5675),\n",
       " ('thou', 5138)]"
      ]
     },
     "execution_count": 2,
     "metadata": {},
     "output_type": "execute_result"
    }
   ],
   "source": [
    "from pyspark import SparkContext, SparkConf\n",
    "\n",
    "conf = SparkConf().setAppName(\"word count\").setMaster(\"local\")\n",
    "sc = SparkContext(conf = conf)\n",
    "lines = sc.textFile(\"t8.shakespeare.txt\")\n",
    "words = lines.flatMap(lambda line: line.lower().split(\" \"))\n",
    "wordCounts = words.countByValue()\n",
    "\n",
    "sorted_x = dict(sorted(wordCounts.items(), key=lambda item: item[1], reverse=True))\n",
    "sorted_dict = collections.OrderedDict(sorted_x)\n",
    "list(sorted_dict.items())[1:25]"
   ]
  },
  {
   "cell_type": "markdown",
   "id": "d4d5d2f8",
   "metadata": {},
   "source": [
    "Bei den Wörtern habe ich darauf geachtet, dass Groß- und Kleinschreibung beim selben Wort (beispielsweise and und And) zusammengezählt werden. Außerdem habe ich das erste \"Wort\" übersprungen, da dies laut der Zählung das Leerzeichen gewesen wäre mit 50.000+ Vorkommnissen. So fange ich also beim zweithäufigsten Wort an und gehe dann bis zum 25. häufigsten Wort. "
   ]
  }
 ],
 "metadata": {
  "kernelspec": {
   "display_name": "Python 3",
   "language": "python",
   "name": "python3"
  },
  "language_info": {
   "codemirror_mode": {
    "name": "ipython",
    "version": 3
   },
   "file_extension": ".py",
   "mimetype": "text/x-python",
   "name": "python",
   "nbconvert_exporter": "python",
   "pygments_lexer": "ipython3",
   "version": "3.8.8"
  }
 },
 "nbformat": 4,
 "nbformat_minor": 5
}
