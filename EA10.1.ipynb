{
 "cells": [
  {
   "cell_type": "code",
   "execution_count": 1,
   "id": "a8654d1e",
   "metadata": {},
   "outputs": [],
   "source": [
    "import numpy as np\n",
    "import matplotlib.pyplot as plt\n",
    "%matplotlib inline"
   ]
  },
  {
   "cell_type": "code",
   "execution_count": 2,
   "id": "147f4ea8",
   "metadata": {},
   "outputs": [
    {
     "data": {
      "text/plain": [
       "<matplotlib.collections.PathCollection at 0x276b34c5eb8>"
      ]
     },
     "execution_count": 2,
     "metadata": {},
     "output_type": "execute_result"
    },
    {
     "data": {
      "image/png": "[encoded data removed]",
      "text/plain": [
       "<Figure size 432x288 with 1 Axes>"
      ]
     },
     "metadata": {
      "needs_background": "light"
     },
     "output_type": "display_data"
    }
   ],
   "source": [
    "# Data\n",
    "qm = np.array([414, 379, 243, 462, 643, 226, 877, 626, 712, 694])\n",
    "preis = np.array([170000,150000,80000,190000,230000,90000,360000,280000,330000,300000])\n",
    "labels = np.array([0,0,0,0,1,0,1,1,1,1])\n",
    "plt.scatter(qm, preis)"
   ]
  },
  {
   "cell_type": "code",
   "execution_count": 3,
   "id": "1666b627",
   "metadata": {},
   "outputs": [
    {
     "data": {
      "text/plain": [
       "array([[   414, 170000],\n",
       "       [   379, 150000],\n",
       "       [   243,  80000],\n",
       "       [   462, 190000],\n",
       "       [   643, 230000],\n",
       "       [   226,  90000],\n",
       "       [   877, 360000],\n",
       "       [   626, 280000],\n",
       "       [   712, 330000],\n",
       "       [   694, 300000]])"
      ]
     },
     "execution_count": 3,
     "metadata": {},
     "output_type": "execute_result"
    }
   ],
   "source": [
    "# Training set\n",
    "training_set = np.column_stack([qm, preis])\n"
   ]
  },
  {
   "cell_type": "code",
   "execution_count": 4,
   "id": "ebbbb390",
   "metadata": {},
   "outputs": [],
   "source": [
    "# Calculate distance\n",
    "def eucl_distance(vector1, vector2):\n",
    "    return np.linalg.norm(vector1-vector2)"
   ]
  },
  {
   "cell_type": "code",
   "execution_count": 5,
   "id": "a0d5a693",
   "metadata": {},
   "outputs": [],
   "source": [
    "# Get the neighbors\n",
    "def get_neighbors(training_set, \n",
    "                  labels, \n",
    "                  test_instance, \n",
    "                  k, \n",
    "                  distance=eucl_distance):\n",
    "    \n",
    "    distances = []\n",
    "    for index in range(len(training_set)):\n",
    "        dist = distance(test_instance, training_set[index])\n",
    "        distances.append((training_set[index], dist, labels[index]))\n",
    "    distances.sort(key=lambda x: x[1])\n",
    "    neighbors = distances[:k]\n",
    "    return neighbors"
   ]
  },
  {
   "cell_type": "code",
   "execution_count": 9,
   "id": "06cee7c5",
   "metadata": {},
   "outputs": [
    {
     "name": "stdout",
     "output_type": "stream",
     "text": [
      "[500,20000] Label:  0 [(array([   462, 190000]), 10000.07219973936, 0), (array([   414, 170000]), 30000.123266413422, 0), (array([   643, 230000]), 30000.340814730756, 1)]\n"
     ]
    }
   ],
   "source": [
    "# Test distance with test example\n",
    "neighbors = get_neighbors(training_set, \n",
    "                              labels, \n",
    "                              [500, 200000], \n",
    "                              3)\n",
    "print(\"[500,20000]\", \"Label: \", 0, neighbors)"
   ]
  }
 ],
 "metadata": {
  "kernelspec": {
   "display_name": "Python 3",
   "language": "python",
   "name": "python3"
  },
  "language_info": {
   "codemirror_mode": {
    "name": "ipython",
    "version": 3
   },
   "file_extension": ".py",
   "mimetype": "text/x-python",
   "name": "python",
   "nbconvert_exporter": "python",
   "pygments_lexer": "ipython3",
   "version": "3.6.13"
  }
 },
 "nbformat": 4,
 "nbformat_minor": 5
}
